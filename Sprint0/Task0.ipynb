{
 "cells": [
  {
   "cell_type": "code",
   "execution_count": 1,
   "id": "e3897284",
   "metadata": {
    "language_info": {
     "name": "polyglot-notebook"
    },
    "polyglot_notebook": {
     "kernelName": "csharp"
    }
   },
   "outputs": [
    {
     "name": "stdout",
     "output_type": "stream",
     "text": [
      "Минимальное значение: 1\n",
      "Максимальное значение: 9\n",
      "Сумма всех элементов: 41\n",
      "Среднее арифметическое: 5.125\n",
      "Отсортированный массив:\n",
      "1 2 3 5 6 7 8 9 \n",
      "Массив содержит число 6: True\n"
     ]
    }
   ],
   "source": [
    "int[] numbers = {5, 8, 1, 3, 9, 6, 7, 2};\n",
    "\n",
    "int min = numbers[0];  \n",
    "int max = numbers[0];  \n",
    "          \n",
    "    foreach(int num in numbers)  \n",
    "    {  \n",
    "        if(num < min) min = num;  \n",
    "        if(num > max) max = num;  \n",
    "    }\n",
    "\n",
    "Console.WriteLine($\"Минимальное значение: {min}\");  \n",
    "Console.WriteLine($\"Максимальное значение: {max}\");  \n",
    "                   \n",
    "int sum = 0;  \n",
    "foreach(int num in numbers)  \n",
    "    {  \n",
    "        sum += num;  \n",
    "    } \n",
    "\n",
    "Console.WriteLine($\"Сумма всех элементов: {sum}\");\n",
    "\n",
    "double average = (double)sum / numbers.Length;  \n",
    "Console.WriteLine($\"Среднее арифметическое: {average}\");\n",
    "\n",
    "Array.Sort(numbers);  \n",
    "Console.WriteLine(\"Отсортированный массив:\");  \n",
    "foreach(int num in numbers)  \n",
    "    {  \n",
    "        Console.Write(num + \" \");  \n",
    "    }\n",
    "\n",
    "int searchNumber = 6; // число для поиска  \n",
    "bool contains = Array.Exists(numbers, element => element == searchNumber);  \n",
    "\n",
    "Console.WriteLine($\"\\nМассив содержит число {searchNumber}: {contains}\");"
   ]
  }
 ],
 "metadata": {
  "kernelspec": {
   "display_name": ".NET (C#)",
   "language": "C#",
   "name": ".net-csharp"
  },
  "language_info": {
   "name": "polyglot-notebook"
  },
  "polyglot_notebook": {
   "kernelInfo": {
    "defaultKernelName": "csharp",
    "items": [
     {
      "aliases": [],
      "name": "csharp"
     }
    ]
   }
  }
 },
 "nbformat": 4,
 "nbformat_minor": 5
}
