{
 "cells": [
  {
   "cell_type": "code",
   "execution_count": 6,
   "id": "7a115338",
   "metadata": {
    "language_info": {
     "name": "polyglot-notebook"
    },
    "polyglot_notebook": {
     "kernelName": "csharp"
    }
   },
   "outputs": [],
   "source": [
    "public class Animal\n",
    "{\n",
    "    public virtual void Move() \n",
    "    {\n",
    "        Console.WriteLine(\"Животное движется...\");\n",
    "    }\n",
    "}\n",
    "\n",
    "public interface ISignalizable\n",
    "{\n",
    "    void Meow();\n",
    "}\n",
    "\n",
    "public class Cat : Animal, ISignalizable\n",
    "{\n",
    "    public void Meow() \n",
    "    {\n",
    "        Console.WriteLine(\"Кот мяукает...\");\n",
    "    }\n",
    "}"
   ]
  },
  {
   "cell_type": "code",
   "execution_count": 7,
   "id": "012fc9d6",
   "metadata": {
    "language_info": {
     "name": "polyglot-notebook"
    },
    "polyglot_notebook": {
     "kernelName": "csharp"
    }
   },
   "outputs": [],
   "source": [
    "\n",
    "\n",
    "public interface IMovable\n",
    "{\n",
    "    void Move();\n",
    "}\n",
    "\n",
    "public class Animal : IMovable\n",
    "{\n",
    "    public void Move() \n",
    "    {\n",
    "        Console.WriteLine(\"Животное движется...\");\n",
    "    }\n",
    "}\n",
    "\n",
    "public class Cat : IMovable\n",
    "{\n",
    "    public void Move() \n",
    "    {\n",
    "        Console.WriteLine(\"Кот движется...\");\n",
    "    }\n",
    "\n",
    "    public void Meow() \n",
    "    {\n",
    "        Console.WriteLine(\"Кот мяукает...\");\n",
    "    }\n",
    "}"
   ]
  },
  {
   "cell_type": "code",
   "execution_count": null,
   "id": "c3ec6131",
   "metadata": {
    "language_info": {
     "name": "polyglot-notebook"
    },
    "polyglot_notebook": {
     "kernelName": "csharp"
    }
   },
   "outputs": [],
   "source": [
    "public interface ILandAnimal\n",
    "{\n",
    "    void Move();\n",
    "}\n",
    "\n",
    "public interface ISeaAnimal\n",
    "{\n",
    "    void whale();\n",
    "}\n",
    "\n",
    "public class Cat : ILandAnimal\n",
    "{\n",
    "    public void Move() \n",
    "    {\n",
    "        Console.WriteLine(\"Животное движется...\");\n",
    "    }\n",
    "\n",
    "    public void Meow() \n",
    "    {\n",
    "        Console.WriteLine(\"Кот мяукает...\");\n",
    "    }\n",
    "}\n",
    "\n",
    "public class Fush : ISeaAnimal\n",
    "{\n",
    "    public void whale() \n",
    "    {\n",
    "        Console.WriteLine(\"Кит плывет\");\n",
    "    }\n",
    "}"
   ]
  },
  {
   "cell_type": "code",
   "execution_count": 9,
   "id": "7d18ea15",
   "metadata": {
    "language_info": {
     "name": "polyglot-notebook"
    },
    "polyglot_notebook": {
     "kernelName": "csharp"
    }
   },
   "outputs": [],
   "source": [
    "public interface IAnimal\n",
    "{\n",
    "    void Move();\n",
    "}\n",
    "\n",
    "public interface ICanMeow\n",
    "{\n",
    "    void Meow();\n",
    "}\n",
    "\n",
    "public interface ICanSail\n",
    "{\n",
    "    void whale();\n",
    "}\n",
    "\n",
    "public interface ICanFly\n",
    "{\n",
    "    void Fly();\n",
    "}\n",
    "\n",
    "public class Cat : IAnimal, ICanMeow\n",
    "{\n",
    "    public void Move() \n",
    "    {\n",
    "        Console.WriteLine(\"Кот движется...\");\n",
    "    }\n",
    "\n",
    "    public void Meow() \n",
    "    {\n",
    "        Console.WriteLine(\"Кот мяукает...\");\n",
    "    }\n",
    "}\n",
    "\n",
    "public class Fish : IAnimal, ICanSail\n",
    "{\n",
    "    public void Move() \n",
    "    {\n",
    "        Console.WriteLine(\"Кит дживется...\");\n",
    "    }\n",
    "\n",
    "    public void whale() \n",
    "    {\n",
    "        Console.WriteLine(\"Кит плывет...\");\n",
    "    }\n",
    "}"
   ]
  },
  {
   "cell_type": "code",
   "execution_count": 10,
   "id": "abf896ef",
   "metadata": {
    "language_info": {
     "name": "polyglot-notebook"
    },
    "polyglot_notebook": {
     "kernelName": "csharp"
    }
   },
   "outputs": [],
   "source": [
    "public interface IPaws\n",
    "{\n",
    "    void Start();\n",
    "}\n",
    "\n",
    "public class SoftPaws : IPaws\n",
    "{\n",
    "    public void Start()\n",
    "    {\n",
    "        Console.WriteLine(\"Начали двигаться мыгкие лапы...\");\n",
    "    }\n",
    "}\n",
    "\n",
    "public class Cat\n",
    "{\n",
    "    private IPaws _paws;\n",
    "\n",
    "    public Cat(IPaws paws)\n",
    "    {\n",
    "        _paws = paws;\n",
    "    }\n",
    "\n",
    "    public void StartPaws()\n",
    "    {\n",
    "        _paws.Start();\n",
    "    }\n",
    "}"
   ]
  }
 ],
 "metadata": {
  "kernelspec": {
   "display_name": ".NET (C#)",
   "language": "C#",
   "name": ".net-csharp"
  },
  "language_info": {
   "name": "polyglot-notebook"
  },
  "polyglot_notebook": {
   "kernelInfo": {
    "defaultKernelName": "csharp",
    "items": [
     {
      "aliases": [],
      "name": "csharp"
     }
    ]
   }
  }
 },
 "nbformat": 4,
 "nbformat_minor": 5
}
