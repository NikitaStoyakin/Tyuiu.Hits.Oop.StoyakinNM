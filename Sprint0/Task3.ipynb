{
 "cells": [
  {
   "cell_type": "markdown",
   "id": "21c7315b",
   "metadata": {},
   "source": [
    "<h2 style=\"color:DodgeBlue\">Название проекта: </h2>\n",
    "\n",
    "----\n",
    "\n",
    "### Проекты в рамках организации Вариант задания 22"
   ]
  },
  {
   "cell_type": "markdown",
   "id": "2d6f857f",
   "metadata": {},
   "source": [
    "<h2 style=\"color:DodgeBlue\">Описание проекта: </h2>\n",
    "\n",
    "----\n",
    "\n",
    "Создать базовый класс Project в C#, который будет представлять проекты в рамках \n",
    "организации. На основе этого класса разработать 2-3 производных класса, \n",
    "демонстрирующих принципы наследования и полиморфизма. В каждом из классов \n",
    "должны быть реализованы новые атрибуты и методы, а также переопределены \n",
    "некоторые методы базового класса для демонстрации полиморфизма."
   ]
  },
  {
   "cell_type": "code",
   "execution_count": 1,
   "id": "cc83eadf",
   "metadata": {
    "language_info": {
     "name": "polyglot-notebook"
    },
    "polyglot_notebook": {
     "kernelName": "csharp"
    }
   },
   "outputs": [],
   "source": [
    "using System;\n",
    "using System.Collections.Generic;\n",
    "\n",
    "// Базовый класс Project\n",
    "public class Project\n",
    "{\n",
    "    public int ProjectId { get; set; }\n",
    "    public string ProjectName { get; set; }\n",
    "    public string Status { get; set; }\n",
    "\n",
    "    protected List<string> TeamMembers = new List<string>();\n",
    "\n",
    "    public Project(int id, string name)\n",
    "    {\n",
    "        ProjectId = id;\n",
    "        ProjectName = name;\n",
    "        Status = \"Создан\";\n",
    "    }\n",
    "\n",
    "    public virtual void UpdateStatus(string newStatus)\n",
    "    {\n",
    "        Status = newStatus;\n",
    "        Console.WriteLine($\"Статус проекта {ProjectName} обновлен на: {Status}\");\n",
    "    }\n",
    "\n",
    "    public virtual void GetProjectDetails()\n",
    "    {\n",
    "        Console.WriteLine($\"ID: {ProjectId}, Название: {ProjectName}, Статус: {Status}\");\n",
    "    }\n",
    "\n",
    "    public virtual void AssignTeamMember(string memberName)\n",
    "    {\n",
    "        TeamMembers.Add(memberName);\n",
    "        Console.WriteLine($\"К проекту {ProjectName} добавлен участник: {memberName}\");\n",
    "    }\n",
    "}\n",
    "\n",
    "// Продуктовый проект\n",
    "public class ProductProject : Project\n",
    "{\n",
    "    public DateTime ExpectedCompletionDate { get; set; }\n",
    "\n",
    "    public ProductProject(int id, string name, DateTime expectedDate)\n",
    "        : base(id, name)\n",
    "    {\n",
    "        ExpectedCompletionDate = expectedDate;\n",
    "    }\n",
    "\n",
    "    public override void UpdateStatus(string newStatus)\n",
    "    {\n",
    "        Status = $\"{newStatus} (Ожидаемая дата завершения: {ExpectedCompletionDate.ToShortDateString()})\";\n",
    "        Console.WriteLine($\"Статус продуктового проекта {ProjectName} обновлен на: {Status}\");\n",
    "    }\n",
    "}\n",
    "\n",
    "// Исследовательский проект\n",
    "public class ResearchProject : Project\n",
    "{\n",
    "    public double FundingAmount { get; set; }\n",
    "\n",
    "    public ResearchProject(int id, string name, double funding)\n",
    "        : base(id, name)\n",
    "    {\n",
    "        FundingAmount = funding;\n",
    "    }\n",
    "\n",
    "    public override void AssignTeamMember(string memberName)\n",
    "    {\n",
    "        // Допустим, для исследовательского проекта нужны сотрудники с специфическими требованиями\n",
    "        if (memberName.Contains(\"ID\"))\n",
    "        {\n",
    "            base.AssignTeamMember(memberName);\n",
    "            Console.WriteLine($\"Участник {memberName} успешно добавлен в исследовательский проект {ProjectName}.\");\n",
    "        }\n",
    "        else\n",
    "        {\n",
    "            Console.WriteLine($\"Участник {memberName} не подходит для исследовательского проекта {ProjectName} (нужен ID).\");\n",
    "        }\n",
    "    }\n",
    "}\n",
    "\n",
    "// Инфраструктурный проект\n",
    "public class InfrastructureProject : Project\n",
    "{\n",
    "    public int ExecutionPeriod { get; set; } // в днях\n",
    "\n",
    "    public InfrastructureProject(int id, string name, int executionPeriod)\n",
    "        : base(id, name)\n",
    "    {\n",
    "        ExecutionPeriod = executionPeriod;\n",
    "    }\n",
    "\n",
    "    public override void GetProjectDetails()\n",
    "    {\n",
    "        Console.WriteLine($\"ID: {ProjectId}, Название: {ProjectName}, Статус: {Status}, Срок выполнения: {ExecutionPeriod} дней\");\n",
    "    }\n",
    "}\n"
   ]
  },
  {
   "cell_type": "code",
   "execution_count": 2,
   "id": "f34adc9e",
   "metadata": {
    "language_info": {
     "name": "polyglot-notebook"
    },
    "polyglot_notebook": {
     "kernelName": "csharp"
    }
   },
   "outputs": [
    {
     "name": "stdout",
     "output_type": "stream",
     "text": [
      "Статус продуктового проекта CRM-система обновлен на: В работе (Ожидаемая дата завершения: 12/31/2025)\n",
      "К проекту CRM-система добавлен участник: Иванов\n",
      "ID: 1, Название: CRM-система, Статус: В работе (Ожидаемая дата завершения: 12/31/2025)\n",
      "Участник Петров не подходит для исследовательского проекта AI-Алгоритм (нужен ID).\n",
      "Участник Сидоров PhD не подходит для исследовательского проекта AI-Алгоритм (нужен ID).\n",
      "ID: 2, Название: AI-Алгоритм, Статус: Создан\n",
      "Статус проекта Новый офис обновлен на: Строительство начато\n",
      "К проекту Новый офис добавлен участник: Строительная бригада\n",
      "ID: 3, Название: Новый офис, Статус: Строительство начато, Срок выполнения: 180 дней\n"
     ]
    }
   ],
   "source": [
    "var product = new ProductProject(1, \"CRM-система\", new DateTime(2025, 12, 31));\n",
    "product.UpdateStatus(\"В работе\");\n",
    "product.AssignTeamMember(\"Иванов\");\n",
    "product.GetProjectDetails();\n",
    "\n",
    "var research = new ResearchProject(2, \"AI-Алгоритм\", 1000000);\n",
    "research.AssignTeamMember(\"Петров\");\n",
    "research.AssignTeamMember(\"Сидоров PhD\");\n",
    "research.GetProjectDetails();\n",
    "\n",
    "var infra = new InfrastructureProject(3, \"Новый офис\", 180);\n",
    "infra.UpdateStatus(\"Строительство начато\");\n",
    "infra.AssignTeamMember(\"Строительная бригада\");\n",
    "infra.GetProjectDetails();"
   ]
  },
  {
   "cell_type": "markdown",
   "id": "fa817b2b",
   "metadata": {},
   "source": [
    "<h2 style=\"color:DodgeBlue\">"
   ]
  },
  {
   "cell_type": "markdown",
   "id": "e771d078",
   "metadata": {},
   "source": [
    "<h2 style=\"color:DodgeBlue\">"
   ]
  }
 ],
 "metadata": {
  "kernelspec": {
   "display_name": ".NET (C#)",
   "language": "C#",
   "name": ".net-csharp"
  },
  "language_info": {
   "name": "polyglot-notebook"
  },
  "polyglot_notebook": {
   "kernelInfo": {
    "defaultKernelName": "csharp",
    "items": [
     {
      "aliases": [],
      "name": "csharp"
     }
    ]
   }
  }
 },
 "nbformat": 4,
 "nbformat_minor": 5
}
