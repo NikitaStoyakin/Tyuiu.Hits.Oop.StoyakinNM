{
 "cells": [
  {
   "cell_type": "code",
   "execution_count": 22,
   "id": "a7984e3e",
   "metadata": {
    "language_info": {
     "name": "polyglot-notebook"
    },
    "polyglot_notebook": {
     "kernelName": "csharp"
    }
   },
   "outputs": [],
   "source": [
    "class Animal\n",
    "{\n",
    "\n",
    "}\n",
    "\n",
    "// Основная программа\n",
    "Animal Cat = new Animal();"
   ]
  },
  {
   "cell_type": "code",
   "execution_count": 23,
   "id": "5546e1b4",
   "metadata": {
    "language_info": {
     "name": "polyglot-notebook"
    },
    "polyglot_notebook": {
     "kernelName": "csharp"
    }
   },
   "outputs": [
    {
     "name": "stdout",
     "output_type": "stream",
     "text": [
      "Кот начинает бежать...\n",
      "Рыжий\n"
     ]
    }
   ],
   "source": [
    "// Создание класса\n",
    "class Animal\n",
    "{\n",
    "    private string color; // Приватное поле\n",
    "\n",
    "    public string Color // Свойство с геттером и сеттером\n",
    "    {\n",
    "        get { return color; }\n",
    "        set { color = value; }\n",
    "    }\n",
    "\n",
    "    public void StartRunning() // Публичный метод\n",
    "    {\n",
    "        Console.WriteLine(\"Кот начинает бежать...\");\n",
    "    }\n",
    "}\n",
    "\n",
    "// Основная программа\n",
    "Animal Cat = new Animal(); // Создание объекта\n",
    "Cat.Color = \"Рыжий\";\n",
    "Cat.StartRunning();\n",
    "Console.WriteLine(Cat.Color);"
   ]
  },
  {
   "cell_type": "code",
   "execution_count": 24,
   "id": "4f87d1ef",
   "metadata": {
    "language_info": {
     "name": "polyglot-notebook"
    },
    "polyglot_notebook": {
     "kernelName": "csharp"
    }
   },
   "outputs": [
    {
     "name": "stdout",
     "output_type": "stream",
     "text": [
      "Рыжий\n",
      "Кот побежал...\n",
      "Серый\n",
      "Кот побежал...\n"
     ]
    }
   ],
   "source": [
    "class Animal\n",
    "{\n",
    "    private string color; // Приватное поле\n",
    "\n",
    "    public string Color // Свойство с геттером и сеттером\n",
    "    {\n",
    "        get { return color; }\n",
    "        set { color = value; }\n",
    "    }\n",
    "    public void Move()\n",
    "    {\n",
    "        Console.WriteLine(\"Кот побежал...\");\n",
    "    }\n",
    "}\n",
    "\n",
    "class Cat : Animal\n",
    "{\n",
    "\n",
    "}\n",
    "\n",
    "Animal myAnimal = new Animal(); // Создание объекта myAnimal\n",
    "Cat myCat = new Cat(); // Создание объекта myCat\n",
    "\n",
    "myCat.Color = \"Рыжий\";\n",
    "Console.WriteLine(myCat.Color);\n",
    "myCat.Move();\n",
    "\n",
    "myAnimal.Color = \"Серый\";\n",
    "Console.WriteLine(myAnimal.Color);\n",
    "myAnimal.Move();"
   ]
  },
  {
   "cell_type": "code",
   "execution_count": 25,
   "id": "53ee979f",
   "metadata": {
    "language_info": {
     "name": "polyglot-notebook"
    },
    "polyglot_notebook": {
     "kernelName": "csharp"
    }
   },
   "outputs": [
    {
     "name": "stdout",
     "output_type": "stream",
     "text": [
      "Животное двигается\n",
      "Кот двигается\n"
     ]
    }
   ],
   "source": [
    "class Animal\n",
    "{\n",
    "    public virtual void Move()\n",
    "    {\n",
    "        Console.WriteLine(\"Животное двигается\");\n",
    "    }\n",
    "}\n",
    "\n",
    "class Cat : Animal\n",
    "{\n",
    "    public override void Move()\n",
    "    {\n",
    "        //base.Move(); // Вызов метода базового класса\n",
    "        Console.WriteLine(\"Кот двигается\");\n",
    "    }\n",
    "}\n",
    "\n",
    "Animal myAnimal = new Animal(); // Создание объекта myAnimal\n",
    "Cat myCat = new Cat(); // Создание объекта myCat\n",
    "\n",
    "\n",
    "myAnimal.Move();\n",
    "myCat.Move();"
   ]
  },
  {
   "cell_type": "code",
   "execution_count": 26,
   "id": "342400b6",
   "metadata": {
    "language_info": {
     "name": "polyglot-notebook"
    },
    "polyglot_notebook": {
     "kernelName": "csharp"
    }
   },
   "outputs": [
    {
     "name": "stdout",
     "output_type": "stream",
     "text": [
      "Кот готов бежать...\n",
      "Побежали...\n"
     ]
    }
   ],
   "source": [
    "abstract class Cat\n",
    "{\n",
    "    public abstract void StartRunning();\n",
    "\n",
    "    public void Move()\n",
    "    {\n",
    "        Console.WriteLine(\"Побежали...\");\n",
    "    }\n",
    "}\n",
    "\n",
    "class PetCat : Cat\n",
    "{\n",
    "    public override void StartRunning()\n",
    "    {\n",
    "        Console.WriteLine(\"Кот готов бежать...\");\n",
    "    }\n",
    "}\n",
    "\n",
    "PetCat myPetCat = new PetCat(); // Создание объекта myPetCat\n",
    "\n",
    "myPetCat.StartRunning();\n",
    "myPetCat.Move();"
   ]
  },
  {
   "cell_type": "code",
   "execution_count": 27,
   "id": "75a5f092",
   "metadata": {
    "language_info": {
     "name": "polyglot-notebook"
    },
    "polyglot_notebook": {
     "kernelName": "csharp"
    }
   },
   "outputs": [
    {
     "name": "stdout",
     "output_type": "stream",
     "text": [
      "Кот побежал\n",
      "Кот бежит\n",
      "Кот остановился\n"
     ]
    }
   ],
   "source": [
    "using System;\n",
    "\n",
    "public class Paws\n",
    "{\n",
    "    public void Start() => Console.WriteLine(\"Кот побежал\");\n",
    "    public void Stop() => Console.WriteLine(\"Кот остановился\");\n",
    "}\n",
    "\n",
    "public class Cat\n",
    "{\n",
    "    private Paws paws;\n",
    "\n",
    "    public Cat(Paws paws )\n",
    "    {\n",
    "        this.paws = paws;\n",
    "    }\n",
    "\n",
    "    public void Walk()\n",
    "    {\n",
    "        paws.Start();\n",
    "\n",
    "        // Дополнительная логика для движения кота\n",
    "        Console.WriteLine(\"Кот бежит\");\n",
    "\n",
    "        paws.Stop();\n",
    "    }\n",
    "}\n",
    "\n",
    "Paws myPaws = new Paws(); // Создание объекта myPaws\n",
    "Cat myAnimal = new Cat(myPaws); // Создание объекта myAnimal\n",
    "\n",
    "myAnimal.Walk(); // Кот начинает движение, используя лапы"
   ]
  },
  {
   "cell_type": "code",
   "execution_count": 28,
   "id": "c54dfee0",
   "metadata": {
    "language_info": {
     "name": "polyglot-notebook"
    },
    "polyglot_notebook": {
     "kernelName": "csharp"
    }
   },
   "outputs": [
    {
     "name": "stdout",
     "output_type": "stream",
     "text": [
      "Кот бежит...\n",
      "Никита направляет кота...\n",
      "Кот бежит...\n"
     ]
    }
   ],
   "source": [
    "using System;\n",
    "\n",
    "abstract class Animal\n",
    "{\n",
    "    public abstract void Walk();\n",
    "}\n",
    "\n",
    "class Cat : Animal\n",
    "{\n",
    "    private Owner owner;\n",
    "\n",
    "    public Cat(Owner owner)\n",
    "    {\n",
    "        this.owner = owner;\n",
    "    }\n",
    "\n",
    "    public override void Walk()\n",
    "    {\n",
    "        Console.WriteLine(\"Кот бежит...\");\n",
    "    }\n",
    "}\n",
    "\n",
    "class Owner\n",
    "{\n",
    "    public string Name { get; set; }\n",
    "\n",
    "    public Owner(string name)\n",
    "    {\n",
    "        Name = name;\n",
    "    }\n",
    "\n",
    "    public void Walk(Animal animal)\n",
    "    {\n",
    "        Console.WriteLine($\"{Name} направляет кота...\");\n",
    "        animal.Walk();\n",
    "    }\n",
    "}\n",
    "\n",
    "    Owner Nikita = new Owner(\"Никита\");\n",
    "    Cat myCat = new Cat(Nikita); // Создаем кота с хозяином\n",
    "\n",
    "    myCat.Walk(); // Кот начинает движение\n",
    "    Nikita.Walk(myCat); // Хозяин также может начать движение с котом"
   ]
  }
 ],
 "metadata": {
  "kernelspec": {
   "display_name": ".NET (C#)",
   "language": "C#",
   "name": ".net-csharp"
  },
  "language_info": {
   "name": "polyglot-notebook"
  },
  "polyglot_notebook": {
   "kernelInfo": {
    "defaultKernelName": "csharp",
    "items": [
     {
      "aliases": [],
      "name": "csharp"
     }
    ]
   }
  }
 },
 "nbformat": 4,
 "nbformat_minor": 5
}
